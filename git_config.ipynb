{
 "cells": [
  {
   "cell_type": "code",
   "execution_count": null,
   "metadata": {},
   "outputs": [],
   "source": []
  }
 ],
 "metadata": {
  "kernelspec": {
   "display_name": "python-intro",
   "language": "python",
   "name": "python-intro"
  }
 },
 "nbformat": 4,
 "nbformat_minor": 2
}
