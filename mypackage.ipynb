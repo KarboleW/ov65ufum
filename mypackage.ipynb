{
 "cells": [
  {
   "cell_type": "code",
   "execution_count": 4,
   "metadata": {},
   "outputs": [],
   "source": [
    "import numpy as np\n",
    "from ipywidgets import interact, fixed\n",
    "from PIL import Image\n",
    "import matplotlib.pyplot as plt \n",
    "\n",
    "def imshow(X, resize=None):\n",
    "    \"\"\"Plots an image of resized size if argument is given - jupyter.\n",
    "\n",
    "    Parameters\n",
    "    ----------\n",
    "    X : numpy.array\n",
    "        Image as numpy array..\n",
    "    resize : tuple, optional\n",
    "        Resize size (width, height).\n",
    "        \n",
    "    Returns\n",
    "    -------\n",
    "    PIL.Image\n",
    "        Resized image as Pillow Image object.\n",
    "    \"\"\"\n",
    "    \n",
    "    X = Image.fromarray(np.uint8(X))\n",
    "    if resize != None:\n",
    "        X = X.resize(resize)\n",
    "    \n",
    "    plt.figure(), plt.imshow(X), plt.show()\n",
    "    \n",
    "    return X\n"
   ]
  },
  {
   "cell_type": "code",
   "execution_count": 6,
   "metadata": {},
   "outputs": [],
   "source": [
    "#imshow(np.random.randint(0,255,(128,128,3)), resize=(64,32))"
   ]
  },
  {
   "cell_type": "code",
   "execution_count": null,
   "metadata": {},
   "outputs": [],
   "source": []
  }
 ],
 "metadata": {
  "kernelspec": {
   "display_name": "myvenv",
   "language": "python",
   "name": "myvenv"
  },
  "language_info": {
   "codemirror_mode": {
    "name": "ipython",
    "version": 3
   },
   "file_extension": ".py",
   "mimetype": "text/x-python",
   "name": "python",
   "nbconvert_exporter": "python",
   "pygments_lexer": "ipython3",
   "version": "3.7.4"
  }
 },
 "nbformat": 4,
 "nbformat_minor": 2
}
